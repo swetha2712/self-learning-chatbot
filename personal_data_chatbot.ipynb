{
  "nbformat": 4,
  "nbformat_minor": 0,
  "metadata": {
    "colab": {
      "name": "personal data chatbot.ipynb",
      "provenance": [],
      "authorship_tag": "ABX9TyPEXK3TBNvQIEHhmWlUU4kk",
      "include_colab_link": true
    },
    "kernelspec": {
      "name": "python3",
      "display_name": "Python 3"
    },
    "language_info": {
      "name": "python"
    }
  },
  "cells": [
    {
      "cell_type": "markdown",
      "metadata": {
        "id": "view-in-github",
        "colab_type": "text"
      },
      "source": [
        "<a href=\"https://colab.research.google.com/github/swetha2712/self-learning-chatbot/blob/main/personal_data_chatbot.ipynb\" target=\"_parent\"><img src=\"https://colab.research.google.com/assets/colab-badge.svg\" alt=\"Open In Colab\"/></a>"
      ]
    },
    {
      "cell_type": "code",
      "metadata": {
        "colab": {
          "base_uri": "https://localhost:8080/"
        },
        "id": "ZEjAkh9DjFRp",
        "outputId": "de565ec8-1b00-484d-b0ca-6a5ff7e209d5"
      },
      "source": [
        "pip install nltk"
      ],
      "execution_count": null,
      "outputs": [
        {
          "output_type": "stream",
          "text": [
            "Requirement already satisfied: nltk in /usr/local/lib/python3.7/dist-packages (3.2.5)\n",
            "Requirement already satisfied: six in /usr/local/lib/python3.7/dist-packages (from nltk) (1.15.0)\n"
          ],
          "name": "stdout"
        }
      ]
    },
    {
      "cell_type": "code",
      "metadata": {
        "colab": {
          "base_uri": "https://localhost:8080/"
        },
        "id": "qRC9OFhhjhL2",
        "outputId": "a9a7fe6f-cafd-4326-ef53-f745835ca443"
      },
      "source": [
        "pip install newspaper3k"
      ],
      "execution_count": null,
      "outputs": [
        {
          "output_type": "stream",
          "text": [
            "Collecting newspaper3k\n",
            "\u001b[?25l  Downloading https://files.pythonhosted.org/packages/d7/b9/51afecb35bb61b188a4b44868001de348a0e8134b4dfa00ffc191567c4b9/newspaper3k-0.2.8-py3-none-any.whl (211kB)\n",
            "\r\u001b[K     |█▌                              | 10kB 15.9MB/s eta 0:00:01\r\u001b[K     |███                             | 20kB 11.5MB/s eta 0:00:01\r\u001b[K     |████▋                           | 30kB 8.1MB/s eta 0:00:01\r\u001b[K     |██████▏                         | 40kB 7.6MB/s eta 0:00:01\r\u001b[K     |███████▊                        | 51kB 4.4MB/s eta 0:00:01\r\u001b[K     |█████████▎                      | 61kB 5.0MB/s eta 0:00:01\r\u001b[K     |██████████▉                     | 71kB 5.0MB/s eta 0:00:01\r\u001b[K     |████████████▍                   | 81kB 5.3MB/s eta 0:00:01\r\u001b[K     |██████████████                  | 92kB 5.7MB/s eta 0:00:01\r\u001b[K     |███████████████▌                | 102kB 5.7MB/s eta 0:00:01\r\u001b[K     |█████████████████               | 112kB 5.7MB/s eta 0:00:01\r\u001b[K     |██████████████████▋             | 122kB 5.7MB/s eta 0:00:01\r\u001b[K     |████████████████████▏           | 133kB 5.7MB/s eta 0:00:01\r\u001b[K     |█████████████████████▊          | 143kB 5.7MB/s eta 0:00:01\r\u001b[K     |███████████████████████▎        | 153kB 5.7MB/s eta 0:00:01\r\u001b[K     |████████████████████████▉       | 163kB 5.7MB/s eta 0:00:01\r\u001b[K     |██████████████████████████▍     | 174kB 5.7MB/s eta 0:00:01\r\u001b[K     |████████████████████████████    | 184kB 5.7MB/s eta 0:00:01\r\u001b[K     |█████████████████████████████▌  | 194kB 5.7MB/s eta 0:00:01\r\u001b[K     |███████████████████████████████ | 204kB 5.7MB/s eta 0:00:01\r\u001b[K     |████████████████████████████████| 215kB 5.7MB/s \n",
            "\u001b[?25hCollecting cssselect>=0.9.2\n",
            "  Downloading https://files.pythonhosted.org/packages/3b/d4/3b5c17f00cce85b9a1e6f91096e1cc8e8ede2e1be8e96b87ce1ed09e92c5/cssselect-1.1.0-py2.py3-none-any.whl\n",
            "Collecting jieba3k>=0.35.1\n",
            "\u001b[?25l  Downloading https://files.pythonhosted.org/packages/a9/cb/2c8332bcdc14d33b0bedd18ae0a4981a069c3513e445120da3c3f23a8aaa/jieba3k-0.35.1.zip (7.4MB)\n",
            "\u001b[K     |████████████████████████████████| 7.4MB 23.4MB/s \n",
            "\u001b[?25hRequirement already satisfied: beautifulsoup4>=4.4.1 in /usr/local/lib/python3.7/dist-packages (from newspaper3k) (4.6.3)\n",
            "Requirement already satisfied: nltk>=3.2.1 in /usr/local/lib/python3.7/dist-packages (from newspaper3k) (3.2.5)\n",
            "Collecting tldextract>=2.0.1\n",
            "\u001b[?25l  Downloading https://files.pythonhosted.org/packages/7e/62/b6acd3129c5615b9860e670df07fd55b76175b63e6b7f68282c7cad38e9e/tldextract-3.1.0-py2.py3-none-any.whl (87kB)\n",
            "\u001b[K     |████████████████████████████████| 92kB 9.3MB/s \n",
            "\u001b[?25hCollecting feedfinder2>=0.0.4\n",
            "  Downloading https://files.pythonhosted.org/packages/35/82/1251fefec3bb4b03fd966c7e7f7a41c9fc2bb00d823a34c13f847fd61406/feedfinder2-0.0.4.tar.gz\n",
            "Collecting tinysegmenter==0.3\n",
            "  Downloading https://files.pythonhosted.org/packages/17/82/86982e4b6d16e4febc79c2a1d68ee3b707e8a020c5d2bc4af8052d0f136a/tinysegmenter-0.3.tar.gz\n",
            "Requirement already satisfied: requests>=2.10.0 in /usr/local/lib/python3.7/dist-packages (from newspaper3k) (2.23.0)\n",
            "Collecting feedparser>=5.2.1\n",
            "\u001b[?25l  Downloading https://files.pythonhosted.org/packages/1c/21/faf1bac028662cc8adb2b5ef7a6f3999a765baa2835331df365289b0ca56/feedparser-6.0.2-py3-none-any.whl (80kB)\n",
            "\u001b[K     |████████████████████████████████| 81kB 6.2MB/s \n",
            "\u001b[?25hRequirement already satisfied: lxml>=3.6.0 in /usr/local/lib/python3.7/dist-packages (from newspaper3k) (4.2.6)\n",
            "Requirement already satisfied: Pillow>=3.3.0 in /usr/local/lib/python3.7/dist-packages (from newspaper3k) (7.1.2)\n",
            "Requirement already satisfied: python-dateutil>=2.5.3 in /usr/local/lib/python3.7/dist-packages (from newspaper3k) (2.8.1)\n",
            "Requirement already satisfied: PyYAML>=3.11 in /usr/local/lib/python3.7/dist-packages (from newspaper3k) (3.13)\n",
            "Requirement already satisfied: six in /usr/local/lib/python3.7/dist-packages (from nltk>=3.2.1->newspaper3k) (1.15.0)\n",
            "Collecting requests-file>=1.4\n",
            "  Downloading https://files.pythonhosted.org/packages/77/86/cdb5e8eaed90796aa83a6d9f75cfbd37af553c47a291cd47bc410ef9bdb2/requests_file-1.5.1-py2.py3-none-any.whl\n",
            "Requirement already satisfied: filelock>=3.0.8 in /usr/local/lib/python3.7/dist-packages (from tldextract>=2.0.1->newspaper3k) (3.0.12)\n",
            "Requirement already satisfied: idna in /usr/local/lib/python3.7/dist-packages (from tldextract>=2.0.1->newspaper3k) (2.10)\n",
            "Requirement already satisfied: chardet<4,>=3.0.2 in /usr/local/lib/python3.7/dist-packages (from requests>=2.10.0->newspaper3k) (3.0.4)\n",
            "Requirement already satisfied: urllib3!=1.25.0,!=1.25.1,<1.26,>=1.21.1 in /usr/local/lib/python3.7/dist-packages (from requests>=2.10.0->newspaper3k) (1.24.3)\n",
            "Requirement already satisfied: certifi>=2017.4.17 in /usr/local/lib/python3.7/dist-packages (from requests>=2.10.0->newspaper3k) (2020.12.5)\n",
            "Collecting sgmllib3k\n",
            "  Downloading https://files.pythonhosted.org/packages/9e/bd/3704a8c3e0942d711c1299ebf7b9091930adae6675d7c8f476a7ce48653c/sgmllib3k-1.0.0.tar.gz\n",
            "Building wheels for collected packages: jieba3k, feedfinder2, tinysegmenter, sgmllib3k\n",
            "  Building wheel for jieba3k (setup.py) ... \u001b[?25l\u001b[?25hdone\n",
            "  Created wheel for jieba3k: filename=jieba3k-0.35.1-cp37-none-any.whl size=7398406 sha256=5108e0a12577dfc364757395aba7eeacba9756b218beafa4325e6e7bf65e73b4\n",
            "  Stored in directory: /root/.cache/pip/wheels/83/15/9c/a3f1f67e7f7181170ad37d32e503c35da20627c013f438ed34\n",
            "  Building wheel for feedfinder2 (setup.py) ... \u001b[?25l\u001b[?25hdone\n",
            "  Created wheel for feedfinder2: filename=feedfinder2-0.0.4-cp37-none-any.whl size=3358 sha256=fde501875312d1d04642d72463e8fd2dc78730133c092d0f17cd2cdb9135b2b5\n",
            "  Stored in directory: /root/.cache/pip/wheels/de/03/ca/778e3a7a627e3d98836cc890e7cb40c7575424cfd3340f40ed\n",
            "  Building wheel for tinysegmenter (setup.py) ... \u001b[?25l\u001b[?25hdone\n",
            "  Created wheel for tinysegmenter: filename=tinysegmenter-0.3-cp37-none-any.whl size=13538 sha256=48f27b97707db4e4e96046c3997521d7279e34f5b870524bc320b40d22c7e178\n",
            "  Stored in directory: /root/.cache/pip/wheels/81/2b/43/a02ede72324dd40cdd7ca53aad718c7710628e91b8b0dc0f02\n",
            "  Building wheel for sgmllib3k (setup.py) ... \u001b[?25l\u001b[?25hdone\n",
            "  Created wheel for sgmllib3k: filename=sgmllib3k-1.0.0-cp37-none-any.whl size=6067 sha256=75623d1e0d46c8a9ff3111801454a0930c423e7fa8c4d7bd830af1761a18a9c5\n",
            "  Stored in directory: /root/.cache/pip/wheels/f1/80/5a/444ba08a550cdd241bd9baf8bae44be750efe370adb944506a\n",
            "Successfully built jieba3k feedfinder2 tinysegmenter sgmllib3k\n",
            "Installing collected packages: cssselect, jieba3k, requests-file, tldextract, feedfinder2, tinysegmenter, sgmllib3k, feedparser, newspaper3k\n",
            "Successfully installed cssselect-1.1.0 feedfinder2-0.0.4 feedparser-6.0.2 jieba3k-0.35.1 newspaper3k-0.2.8 requests-file-1.5.1 sgmllib3k-1.0.0 tinysegmenter-0.3 tldextract-3.1.0\n"
          ],
          "name": "stdout"
        }
      ]
    },
    {
      "cell_type": "code",
      "metadata": {
        "id": "JAHQxriykqRW"
      },
      "source": [
        "from newspaper import Article\n",
        "import random\n",
        "import string\n",
        "import numpy as np\n",
        "import warnings\n",
        "import nltk\n",
        "from sklearn.feature_extraction.text import TfidfVectorizer\n",
        "from sklearn.metrics.pairwise import cosine_similarity"
      ],
      "execution_count": null,
      "outputs": []
    },
    {
      "cell_type": "code",
      "metadata": {
        "colab": {
          "base_uri": "https://localhost:8080/"
        },
        "id": "yXnBI07TlQ89",
        "outputId": "088cd4d9-05e4-47b7-f103-c56af1f851ff"
      },
      "source": [
        "nltk.download('punkt',quiet=True)\n",
        "nltk.download('wordnet',quiet=True)"
      ],
      "execution_count": null,
      "outputs": [
        {
          "output_type": "execute_result",
          "data": {
            "text/plain": [
              "True"
            ]
          },
          "metadata": {
            "tags": []
          },
          "execution_count": 5
        }
      ]
    },
    {
      "cell_type": "code",
      "metadata": {
        "colab": {
          "base_uri": "https://localhost:8080/"
        },
        "id": "3uZzCKOwmc7r",
        "outputId": "d1975fbb-4177-47fd-e595-6ec4730a6170"
      },
      "source": [
        "article= Article('https://en.wikipedia.org/wiki/Personal_data')\n",
        "article.download()\n",
        "article.parse()\n",
        "article.nlp()\n",
        "corpus=article.text\n",
        "#print\n",
        "print(corpus)"
      ],
      "execution_count": null,
      "outputs": [
        {
          "output_type": "stream",
          "text": [
            "Biographical information for identifying the identity of the person to whom it relates\n",
            "\n",
            "\"Private information\" redirects here. For the 1952 British film, see Private Information\n",
            "\n",
            "Personal data, also known as personal information or personally identifiable information (PII)[1][2][3] is any information relating to an identifiable person.\n",
            "\n",
            "The abbreviation PII is widely accepted in the United States, but the phrase it abbreviates has four common variants based on personal / personally, and identifiable / identifying. Not all are equivalent, and for legal purposes the effective definitions vary depending on the jurisdiction and the purposes for which the term is being used. [a] Under European and other data protection regimes, which centre primarily around the General Data Protection Regulation, the term \"personal data\" is significantly broader, and determines the scope of the regulatory regime.[4]\n",
            "\n",
            "National Institute of Standards and Technology Special Publication 800-122[5] defines personally identifiable information as \"any information about an individual maintained by an agency, including (1) any information that can be used to distinguish or trace an individual's identity, such as name, social security number, date and place of birth, mother's maiden name, or biometric records; and (2) any other information that is linked or linkable to an individual, such as medical, educational, financial, and employment information.\" So, for example, a user's IP address is not classed as PII on its own, but is classified as a linked PII.[6] However, in the European Union, the IP address of an Internet subscriber may be classed as personal data.[7]\n",
            "\n",
            "Personal data is defined under the GDPR as \"any information which [is] related to an identified or identifiable natural person\".[8]\n",
            "\n",
            "The concept of PII has become prevalent as information technology and the Internet have made it easier to collect PII leading to a profitable market in collecting and reselling PII. PII can also be exploited by criminals to stalk or steal the identity of a person, or to aid in the planning of criminal acts. As a response to these threats, many website privacy policies specifically address the gathering of PII,[9] and lawmakers such as the European Parliament have enacted a series of legislation such as the General Data Protection Regulation (GDPR) to limit the distribution and accessibility of PII.[10]\n",
            "\n",
            "Important confusion arises around whether PII means information which is identifiable (that is, can be associated with a person) or identifying (that is, associated uniquely with a person, such that the PII identifies them). In prescriptive data privacy regimes such as HIPAA, PII items have been specifically defined. In broader data protection regimes such as the GDPR, personal data is defined in a non-prescriptive principles-based way. Information that might not count as PII under HIPAA can be personal data for the purposes of GDPR. For this reason, \"PII\" is typically deprecated internationally.\n",
            "\n",
            "Conceptions [ edit ]\n",
            "\n",
            "The U.S. government used the term \"personally identifiable\" in 2007 in a memorandum from the Executive Office of the President, Office of Management and Budget (OMB),[11] and that usage now appears in US standards such as the NIST Guide to Protecting the Confidentiality of Personally Identifiable Information (SP 800-122).[12] The OMB memorandum defines PII as follows:\n",
            "\n",
            "Information which can be used to distinguish or trace an individual's identity, such as their name, social security number, biometric records, etc. alone, or when combined with other personal or identifying information which is linked or linkable to a specific individual, such as date and place of birth, mother’s maiden name, etc.\n",
            "\n",
            "A term similar to PII, \"personal data\" is defined in EU directive 95/46/EC, for the purposes of the directive:[13]\n",
            "\n",
            "Article 2a: 'personal data' shall mean any information relating to an identified or identifiable natural person ('data subject'); an identifiable person is one who can be identified, directly or indirectly, in particular by reference to an identification number or to one or more factors specific to his physical, physiological, mental, economic, cultural or social identity;\n",
            "\n",
            "However, in the EU rules, there has been a clearer notion that the data subject can potentially be identified through additional processing of other attributes—quasi- or pseudo-identifiers. In the GDPR Personal Data is defined as:\n",
            "\n",
            "Any information relating to an identified or identifiable natural person ('data subject'); an identifiable natural person is one who can be identified, directly or indirectly, in particular by reference to an identifier such as a name, an identification number, location data, an online identifier or to one or more factors specific to the physical, physiological, genetic, mental, economic, cultural or social identity of that natural person[14]\n",
            "\n",
            "A simple example of this distinction: the colour name \"red\" by itself is not personal data, but that same value stored as part of a person's record as their \"favourite colour\" is personal data; it's the connection to the person that makes it personal data, not (as in PII) the value itself.\n",
            "\n",
            "Another term similar to PII, \"personal information\" is defined in a section of the California data breach notification law, SB1386:[15]\n",
            "\n",
            "(e) For purposes of this section, \"personal information\" means an individual's first name or first initial and last name in combination with any one or more of the following data elements, when either the name or the data elements are not encrypted: (1) Social security number. (2) Driver's license number or California Identification Card number. (3) Account number, credit or debit card number, in combination with any required security code, access code, or password that would permit access to an individual's financial account. (f) For purposes of this section, \"personal information\" does not include publicly available information that is lawfully made available to the general public from federal, state, or local government records.\n",
            "\n",
            "The concept of information combination given in the SB1386 definition is key to correctly distinguishing PII, as defined by OMB, from \"personal information\", as defined by SB1386. Information, such as a name, that lacks context cannot be said to be SB1386 \"personal information\", but it must be said to be PII as defined by OMB. For example, the name John Smith has no meaning in the current context and is therefore not SB1386 \"personal information\", but it is PII. A Social Security Number (SSN) without a name or some other associated identity or context information is not SB1386 \"personal information\", but it is PII. For example, the SSN 078-05-1120 by itself is PII, but it is not SB1386 \"personal information\". However the combination of a valid name with the correct SSN is SB1386 \"personal information\".[15]\n",
            "\n",
            "The combination of a name with a context may also be considered PII; for example, if a person's name is on a list of patients for an HIV clinic. However, it is not necessary for the name to be combined with a context in order for it to be PII. The reason for this distinction is that bits of information such as names, although they may not be sufficient by themselves to make an identification, may later be combined with other information to identify persons and expose them to harm.\n",
            "\n",
            "According to the OMB, it is not always the case that PII is \"sensitive\", and context may be taken into account in deciding whether certain PII is or is not sensitive.[11][full citation needed]\n",
            "\n",
            "Australia [ edit ]\n",
            "\n",
            "In Australia, the Privacy Act 1988 deals with the protection of individual privacy, using the OECD Privacy Principles from the 1980s to set up a broad, principles-based regulatory model (unlike in the US, where coverage is generally not based on broad principles but on specific technologies, business practices or data items). Section 6 has the relevant definition.[16] The critical detail is that the definition of 'personal information' also applies to where the individual can be indirectly identified:\n",
            "\n",
            "\"personal information\" means information or an opinion about an identified individual, or an individual who is reasonably identifiable whether the information or opinion is true or not; and whether the information or opinion is recorded in a material form or not. [emphasis added]\n",
            "\n",
            "This raises the question of reasonableness: assume it is theoretically possible to identify a person from information which does not include a name or address, but does contain clues which could be pursued to find out who it relates to. How much extra effort does it take to make it unreasonable that such information could be identified? For instance, if the information involves an IP address, and the relevant ISP stores logs which could easily be inspected (if you had sufficient legal justification) to re-link the IP address to the account holder, can their identity be \"reasonably ascertained\"? If such linking used to be expensive, slow and difficult, but becomes easier, does this change the answer at some point?\n",
            "\n",
            "It appears that this definition is significantly broader than the Californian example given above, and thus that Australian privacy law, while in some respects weakly enforced, may cover a broader category of data and information than in some US law.\n",
            "\n",
            "In particular, online behavioral advertising businesses based in the US but surreptitiously collecting information from people in other countries in the form of cookies, bugs, trackers and the like may find that their preference to avoid the implications of wanting to build a psychographic profile of a particular person using the rubric of 'we don't collect personal information' may find that this does not make sense under a broader definition like that in the Australian Privacy Act.\n",
            "\n",
            "The term \"PII\" is not used in Australian privacy law.\n",
            "\n",
            "Canada [ edit ]\n",
            "\n",
            "European Union [ edit ]\n",
            "\n",
            "European data protection law does not utilize the concept of personally identifiable information, and its scope is instead determined by non-synonymous, wider concept of \"personal data\".\n",
            "\n",
            "Further examples can be found on the EU privacy website.[17]\n",
            "\n",
            "United Kingdom [ edit ]\n",
            "\n",
            "New Zealand [ edit ]\n",
            "\n",
            "The twelve Information Privacy Principles of the Privacy Act 1993 apply.\n",
            "\n",
            "Switzerland [ edit ]\n",
            "\n",
            "The Federal Act on Data Protection of 19 June 1992 (in force since 1993) has set up a protection of privacy by prohibiting virtually any processing of personal data which is not expressly authorized by the data subjects.[19] The protection is subject to the authority of the Federal Data Protection and Information Commissioner.[19]\n",
            "\n",
            "Additionally, any person may ask in writing a company (managing data files) the correction or deletion of any personal data.[20] The company must respond within thirty days.[20]\n",
            "\n",
            "United States [ edit ]\n",
            "\n",
            "The Privacy Act of 1974 (Pub.L. 93–579, 88 Stat. 1896, enacted 31 December 1974, 5 U.S.C. § 552a), a United States federal law, establishes a Code of Fair Information Practice that governs the collection, maintenance, use, and dissemination of personally identifiable information about individuals that is maintained in systems of records by federal agencies.[21]\n",
            "\n",
            "One of the primary focuses of the Health Insurance Portability and Accountability Act (HIPAA), is to protect a patient's Protected Health Information (PHI), which is similar to PII. The U.S. Senate proposed the Privacy Act of 2005, which attempted to strictly limit the display, purchase, or sale of PII without the person's consent. Similarly, the (proposed) Anti-Phishing Act of 2005 attempted to prevent the acquiring of PII through phishing.\n",
            "\n",
            "U.S. lawmakers have paid special attention to the social security number because it can be easily used to commit identity theft. The (proposed) Social Security Number Protection Act of 2005 and (proposed) Identity Theft Prevention Act of 2005 each sought to limit the distribution of an individual's social security number.\n",
            "\n",
            "Additional U.S. specific personally identifiable information[22] includes, but is not limited to, I-94 Records, Medicaid ID Numbers, Internal Revenue Services (I.R.S.) documentation. Exclusivity of personally identifiable information affiliated with the U.S. highlights national data security concerns[23] and the influence of personally identifiable information in U.S. federal data management systems.\n",
            "\n",
            "NIST definition [ edit ]\n",
            "\n",
            "The National Institute of Standards and Technology (NIST) is a physical sciences laboratory, and a non-regulatory agency of the United States Department of Commerce. Its mission is to promote innovation and industrial competitiveness\n",
            "\n",
            "The following data, often used for the express purpose of distinguishing individual identity, clearly classify as personally identifiable information under the definition used by the NIST (described in detail below):[12]\n",
            "\n",
            "The following are less often used to distinguish individual identity, because they are traits shared by many people. However, they are potentially PII, because they may be combined with other personal information to identify an individual.\n",
            "\n",
            "Full Name\n",
            "\n",
            "Home Address\n",
            "\n",
            "City\n",
            "\n",
            "State\n",
            "\n",
            "Postcode\n",
            "\n",
            "Country\n",
            "\n",
            "Telephone\n",
            "\n",
            "Age, Date of Birth, especially if non-specific\n",
            "\n",
            "Gender or race\n",
            "\n",
            "Web cookie[24]\n",
            "\n",
            "When a person wishes to remain anonymous, descriptions of them will often employ several of the above, such as \"a 34-year-old white male who works at Target\". Note that information can still be private, in the sense that a person may not wish for it to become publicly known, without being personally identifiable. Moreover, sometimes multiple pieces of information, none sufficient by itself to uniquely identify an individual, may uniquely identify a person when combined; this is one reason that multiple pieces of evidence are usually presented at criminal trials. It has been shown that, in 1990, 87% of the population of the United States could be uniquely identified by gender, ZIP code, and full date of birth.[25]\n",
            "\n",
            "In hacker and Internet slang, the practice of finding and releasing such information is called \"doxing\".[26][27] It is sometimes used to deter collaboration with law enforcement.[28] On occasion, the doxing can trigger an arrest, particularly if law enforcement agencies suspect that the \"doxed\" individual may panic and disappear.[29]\n",
            "\n",
            "State laws and significant court rulings [ edit ]\n",
            "\n",
            "California The California state constitution declares privacy an inalienable right in Article 1, Section 1. California Online Privacy Protection Act (OPPA) of 2003 SB 1386 requires organizations to notify individuals when PII (in combination with one or more additional, specific data elements) is known or believed to be acquired by an unauthorized person. In 2011, the California State Supreme Court ruled that a person's ZIP code is PII. [30]\n",
            "\n",
            "Nevada Nevada Revised Statutes 603A-Security of Personal Information\n",
            "\n",
            "Massachusetts 201 CMR 17.00: Standards for The Protection of Personal Information of Residents of the Commonwealth [31] In 2013, the Massachusetts Supreme Court ruled that ZIP codes are PII. [32]\n",
            "\n",
            "\n",
            "\n",
            "Federal law [ edit ]\n",
            "\n",
            "Forensics [ edit ]\n",
            "\n",
            "In forensics, particularly the identification and prosecution of criminals, personally identifiable information is critical in establishing evidence in criminal procedure. Criminals may go to great trouble to avoid leaving any PII,[citation needed] such as by:\n",
            "\n",
            "Wearing masks, sunglasses, or clothing to obscure or completely hide distinguishing features, such as eye, skin, and hair colour, facial features, and personal marks such as tattoos, birthmarks, moles and scars.\n",
            "\n",
            "Wearing gloves to conceal fingerprints, which themselves are PII. However, gloves can also leave prints that are just as unique as human fingerprints. After collecting glove prints, law enforcement can then match them to gloves that they have collected as evidence. [33] In many jurisdictions the act of wearing gloves itself while committing a crime can be prosecuted as an inchoate offense. [34]\n",
            "\n",
            "In many jurisdictions the act of wearing gloves itself while committing a crime can be prosecuted as an inchoate offense. Avoiding writing anything in their own handwriting. [35]\n",
            "\n",
            "Masking their internet presence with methods such as using a proxy server to appear to be connecting from an IP address unassociated with oneself.\n",
            "\n",
            "Personal safety [ edit ]\n",
            "\n",
            "Personal data is a key component of online identity and can be exploited by individuals. For instance, data can be altered and used to create fake documents, hijack mail boxes and phone calls or harass people, such as in the data breach from the EE Limited company.[36]\n",
            "\n",
            "Another key case can be referred to as Financial Identity Theft,[37] which usually entails bank account and credit card information being stolen, and then being used or sold.[38]\n",
            "\n",
            "Personal data can also be used to create fake online identity, including fake accounts and profiles (that can be referred as Identity Cloning[39] or Identity Fraud) for celebrities to gather data from other users more easily.[40] Even individuals can be concerned, especially for personal purpose (this is more widely known as sockpuppetry).\n",
            "\n",
            "The most critical information, such as one's password, date of birth, ID documents or Social Insurance Number, can be used to log in to different websites (See Password reuse and Account verification) to gather more information and access more content.\n",
            "\n",
            "Also, several agencies ask for discretion on subject related to their work, for the safety of their employees. For this reason, the United States Department of Defense (DoD) has strict policies controlling release of personally identifiable information of DoD personnel.[41] Many intelligence agencies have similar policies, sometimes to the point where employees do not disclose to their friends that they work for the agency.\n",
            "\n",
            "Similar identity protection concerns exist for witness protection programs, women's shelters, and victims of domestic violence and other threats.[42]\n",
            "\n",
            "Trade of personal data [ edit ]\n",
            "\n",
            "During the second half of the 20th century, the digital revolution introduced \"privacy economics\", or the trade of personal data. The value of data can change over time and over different contexts. Disclosing data can reverse information asymmetry, though the costs of doing so can be unclear. In relation to companies, consumers often have \"imperfect information regarding when their data is collected, with what purposes, and with what consequences.\"[43]\n",
            "\n",
            "Writing in 2015, Alessandro Acquisti, Curtis Taylor and Liad Wagman identified three \"waves\" in the trade of personal data:\n",
            "\n",
            "In the 1970s, the Chicago Boys school claimed that protection of privacy could have a negative impact on the market because it could lead to incorrect and non-optimal decisions. Other researchers like Andrew F. Daughety and Jennifer F. Reinganum suggested that the opposite was true, and that absence of privacy would also lead to this.[44] In the mid 1990s, Varian retook the Chicago Boys approach and added a new externality, stating that the consumer would not always have perfect information on how their own data would be used.[45] Kenneth C. Laudon developed a model in which individuals own their data and have the ability to sell it as a product. He believed that such a system should not be regulated, to create a free market.[46] In the 2000s, researchers worked on price discrimination (Taylor, 2004[47]), two-sided markets (Cornière, 2011[48]) and marketing strategies (Anderson and de Palma, 2012[49]). The theories became complex, and showed that the impact of privacy on the economy highly depended on the context.[ clarification needed ]\n",
            "\n",
            "See also [ edit ]\n",
            "\n",
            "Notes [ edit ]\n",
            "\n",
            "^ Privacy Act 1988 (Cth) \"personal information\" also includes information from which the person's identity is \"reasonably ascertainable\", potentially covering some information not covered by PII. In other countries with privacy protection laws derived from the OECD privacy principles, the term used is more often \"personal information\", which may be somewhat broader: in Australia's1988 (Cth) \"personal information\" also includes information from which the person's identity is \"reasonably ascertainable\", potentially covering some information not covered by PII.\n"
          ],
          "name": "stdout"
        }
      ]
    },
    {
      "cell_type": "code",
      "metadata": {
        "colab": {
          "base_uri": "https://localhost:8080/"
        },
        "id": "QicMotx4oyB0",
        "outputId": "674e9ea9-87fe-4998-967e-aed025326c64"
      },
      "source": [
        "text=corpus\n",
        "sent_tokens=nltk.sent_tokenize(text)\n",
        "print(sent_tokens)"
      ],
      "execution_count": null,
      "outputs": [
        {
          "output_type": "stream",
          "text": [
            "['Biographical information for identifying the identity of the person to whom it relates\\n\\n\"Private information\" redirects here.', 'For the 1952 British film, see Private Information\\n\\nPersonal data, also known as personal information or personally identifiable information (PII)[1][2][3] is any information relating to an identifiable person.', 'The abbreviation PII is widely accepted in the United States, but the phrase it abbreviates has four common variants based on personal / personally, and identifiable / identifying.', 'Not all are equivalent, and for legal purposes the effective definitions vary depending on the jurisdiction and the purposes for which the term is being used.', '[a] Under European and other data protection regimes, which centre primarily around the General Data Protection Regulation, the term \"personal data\" is significantly broader, and determines the scope of the regulatory regime.', '[4]\\n\\nNational Institute of Standards and Technology Special Publication 800-122[5] defines personally identifiable information as \"any information about an individual maintained by an agency, including (1) any information that can be used to distinguish or trace an individual\\'s identity, such as name, social security number, date and place of birth, mother\\'s maiden name, or biometric records; and (2) any other information that is linked or linkable to an individual, such as medical, educational, financial, and employment information.\"', \"So, for example, a user's IP address is not classed as PII on its own, but is classified as a linked PII.\", '[6] However, in the European Union, the IP address of an Internet subscriber may be classed as personal data.', '[7]\\n\\nPersonal data is defined under the GDPR as \"any information which [is] related to an identified or identifiable natural person\".', '[8]\\n\\nThe concept of PII has become prevalent as information technology and the Internet have made it easier to collect PII leading to a profitable market in collecting and reselling PII.', 'PII can also be exploited by criminals to stalk or steal the identity of a person, or to aid in the planning of criminal acts.', 'As a response to these threats, many website privacy policies specifically address the gathering of PII,[9] and lawmakers such as the European Parliament have enacted a series of legislation such as the General Data Protection Regulation (GDPR) to limit the distribution and accessibility of PII.', '[10]\\n\\nImportant confusion arises around whether PII means information which is identifiable (that is, can be associated with a person) or identifying (that is, associated uniquely with a person, such that the PII identifies them).', 'In prescriptive data privacy regimes such as HIPAA, PII items have been specifically defined.', 'In broader data protection regimes such as the GDPR, personal data is defined in a non-prescriptive principles-based way.', 'Information that might not count as PII under HIPAA can be personal data for the purposes of GDPR.', 'For this reason, \"PII\" is typically deprecated internationally.', 'Conceptions [ edit ]\\n\\nThe U.S. government used the term \"personally identifiable\" in 2007 in a memorandum from the Executive Office of the President, Office of Management and Budget (OMB),[11] and that usage now appears in US standards such as the NIST Guide to Protecting the Confidentiality of Personally Identifiable Information (SP 800-122).', \"[12] The OMB memorandum defines PII as follows:\\n\\nInformation which can be used to distinguish or trace an individual's identity, such as their name, social security number, biometric records, etc.\", 'alone, or when combined with other personal or identifying information which is linked or linkable to a specific individual, such as date and place of birth, mother’s maiden name, etc.', 'A term similar to PII, \"personal data\" is defined in EU directive 95/46/EC, for the purposes of the directive:[13]\\n\\nArticle 2a: \\'personal data\\' shall mean any information relating to an identified or identifiable natural person (\\'data subject\\'); an identifiable person is one who can be identified, directly or indirectly, in particular by reference to an identification number or to one or more factors specific to his physical, physiological, mental, economic, cultural or social identity;\\n\\nHowever, in the EU rules, there has been a clearer notion that the data subject can potentially be identified through additional processing of other attributes—quasi- or pseudo-identifiers.', 'In the GDPR Personal Data is defined as:\\n\\nAny information relating to an identified or identifiable natural person (\\'data subject\\'); an identifiable natural person is one who can be identified, directly or indirectly, in particular by reference to an identifier such as a name, an identification number, location data, an online identifier or to one or more factors specific to the physical, physiological, genetic, mental, economic, cultural or social identity of that natural person[14]\\n\\nA simple example of this distinction: the colour name \"red\" by itself is not personal data, but that same value stored as part of a person\\'s record as their \"favourite colour\" is personal data; it\\'s the connection to the person that makes it personal data, not (as in PII) the value itself.', 'Another term similar to PII, \"personal information\" is defined in a section of the California data breach notification law, SB1386:[15]\\n\\n(e) For purposes of this section, \"personal information\" means an individual\\'s first name or first initial and last name in combination with any one or more of the following data elements, when either the name or the data elements are not encrypted: (1) Social security number.', \"(2) Driver's license number or California Identification Card number.\", \"(3) Account number, credit or debit card number, in combination with any required security code, access code, or password that would permit access to an individual's financial account.\", '(f) For purposes of this section, \"personal information\" does not include publicly available information that is lawfully made available to the general public from federal, state, or local government records.', 'The concept of information combination given in the SB1386 definition is key to correctly distinguishing PII, as defined by OMB, from \"personal information\", as defined by SB1386.', 'Information, such as a name, that lacks context cannot be said to be SB1386 \"personal information\", but it must be said to be PII as defined by OMB.', 'For example, the name John Smith has no meaning in the current context and is therefore not SB1386 \"personal information\", but it is PII.', 'A Social Security Number (SSN) without a name or some other associated identity or context information is not SB1386 \"personal information\", but it is PII.', 'For example, the SSN 078-05-1120 by itself is PII, but it is not SB1386 \"personal information\".', 'However the combination of a valid name with the correct SSN is SB1386 \"personal information\".', \"[15]\\n\\nThe combination of a name with a context may also be considered PII; for example, if a person's name is on a list of patients for an HIV clinic.\", 'However, it is not necessary for the name to be combined with a context in order for it to be PII.', 'The reason for this distinction is that bits of information such as names, although they may not be sufficient by themselves to make an identification, may later be combined with other information to identify persons and expose them to harm.', 'According to the OMB, it is not always the case that PII is \"sensitive\", and context may be taken into account in deciding whether certain PII is or is not sensitive.', '[11][full citation needed]\\n\\nAustralia [ edit ]\\n\\nIn Australia, the Privacy Act 1988 deals with the protection of individual privacy, using the OECD Privacy Principles from the 1980s to set up a broad, principles-based regulatory model (unlike in the US, where coverage is generally not based on broad principles but on specific technologies, business practices or data items).', 'Section 6 has the relevant definition.', '[16] The critical detail is that the definition of \\'personal information\\' also applies to where the individual can be indirectly identified:\\n\\n\"personal information\" means information or an opinion about an identified individual, or an individual who is reasonably identifiable whether the information or opinion is true or not; and whether the information or opinion is recorded in a material form or not.', '[emphasis added]\\n\\nThis raises the question of reasonableness: assume it is theoretically possible to identify a person from information which does not include a name or address, but does contain clues which could be pursued to find out who it relates to.', 'How much extra effort does it take to make it unreasonable that such information could be identified?', 'For instance, if the information involves an IP address, and the relevant ISP stores logs which could easily be inspected (if you had sufficient legal justification) to re-link the IP address to the account holder, can their identity be \"reasonably ascertained\"?', 'If such linking used to be expensive, slow and difficult, but becomes easier, does this change the answer at some point?', 'It appears that this definition is significantly broader than the Californian example given above, and thus that Australian privacy law, while in some respects weakly enforced, may cover a broader category of data and information than in some US law.', \"In particular, online behavioral advertising businesses based in the US but surreptitiously collecting information from people in other countries in the form of cookies, bugs, trackers and the like may find that their preference to avoid the implications of wanting to build a psychographic profile of a particular person using the rubric of 'we don't collect personal information' may find that this does not make sense under a broader definition like that in the Australian Privacy Act.\", 'The term \"PII\" is not used in Australian privacy law.', 'Canada [ edit ]\\n\\nEuropean Union [ edit ]\\n\\nEuropean data protection law does not utilize the concept of personally identifiable information, and its scope is instead determined by non-synonymous, wider concept of \"personal data\".', 'Further examples can be found on the EU privacy website.', '[17]\\n\\nUnited Kingdom [ edit ]\\n\\nNew Zealand [ edit ]\\n\\nThe twelve Information Privacy Principles of the Privacy Act 1993 apply.', 'Switzerland [ edit ]\\n\\nThe Federal Act on Data Protection of 19 June 1992 (in force since 1993) has set up a protection of privacy by prohibiting virtually any processing of personal data which is not expressly authorized by the data subjects.', '[19] The protection is subject to the authority of the Federal Data Protection and Information Commissioner.', '[19]\\n\\nAdditionally, any person may ask in writing a company (managing data files) the correction or deletion of any personal data.', '[20] The company must respond within thirty days.', '[20]\\n\\nUnited States [ edit ]\\n\\nThe Privacy Act of 1974 (Pub.L.', '93–579, 88 Stat.', '1896, enacted 31 December 1974, 5 U.S.C.', '§ 552a), a United States federal law, establishes a Code of Fair Information Practice that governs the collection, maintenance, use, and dissemination of personally identifiable information about individuals that is maintained in systems of records by federal agencies.', \"[21]\\n\\nOne of the primary focuses of the Health Insurance Portability and Accountability Act (HIPAA), is to protect a patient's Protected Health Information (PHI), which is similar to PII.\", \"The U.S. Senate proposed the Privacy Act of 2005, which attempted to strictly limit the display, purchase, or sale of PII without the person's consent.\", 'Similarly, the (proposed) Anti-Phishing Act of 2005 attempted to prevent the acquiring of PII through phishing.', 'U.S. lawmakers have paid special attention to the social security number because it can be easily used to commit identity theft.', \"The (proposed) Social Security Number Protection Act of 2005 and (proposed) Identity Theft Prevention Act of 2005 each sought to limit the distribution of an individual's social security number.\", 'Additional U.S. specific personally identifiable information[22] includes, but is not limited to, I-94 Records, Medicaid ID Numbers, Internal Revenue Services (I.R.S.)', 'documentation.', 'Exclusivity of personally identifiable information affiliated with the U.S. highlights national data security concerns[23] and the influence of personally identifiable information in U.S. federal data management systems.', 'NIST definition [ edit ]\\n\\nThe National Institute of Standards and Technology (NIST) is a physical sciences laboratory, and a non-regulatory agency of the United States Department of Commerce.', 'Its mission is to promote innovation and industrial competitiveness\\n\\nThe following data, often used for the express purpose of distinguishing individual identity, clearly classify as personally identifiable information under the definition used by the NIST (described in detail below):[12]\\n\\nThe following are less often used to distinguish individual identity, because they are traits shared by many people.', 'However, they are potentially PII, because they may be combined with other personal information to identify an individual.', 'Full Name\\n\\nHome Address\\n\\nCity\\n\\nState\\n\\nPostcode\\n\\nCountry\\n\\nTelephone\\n\\nAge, Date of Birth, especially if non-specific\\n\\nGender or race\\n\\nWeb cookie[24]\\n\\nWhen a person wishes to remain anonymous, descriptions of them will often employ several of the above, such as \"a 34-year-old white male who works at Target\".', 'Note that information can still be private, in the sense that a person may not wish for it to become publicly known, without being personally identifiable.', 'Moreover, sometimes multiple pieces of information, none sufficient by itself to uniquely identify an individual, may uniquely identify a person when combined; this is one reason that multiple pieces of evidence are usually presented at criminal trials.', 'It has been shown that, in 1990, 87% of the population of the United States could be uniquely identified by gender, ZIP code, and full date of birth.', '[25]\\n\\nIn hacker and Internet slang, the practice of finding and releasing such information is called \"doxing\".', '[26][27] It is sometimes used to deter collaboration with law enforcement.', '[28] On occasion, the doxing can trigger an arrest, particularly if law enforcement agencies suspect that the \"doxed\" individual may panic and disappear.', '[29]\\n\\nState laws and significant court rulings [ edit ]\\n\\nCalifornia The California state constitution declares privacy an inalienable right in Article 1, Section 1.', 'California Online Privacy Protection Act (OPPA) of 2003 SB 1386 requires organizations to notify individuals when PII (in combination with one or more additional, specific data elements) is known or believed to be acquired by an unauthorized person.', \"In 2011, the California State Supreme Court ruled that a person's ZIP code is PII.\", '[30]\\n\\nNevada Nevada Revised Statutes 603A-Security of Personal Information\\n\\nMassachusetts 201 CMR 17.00: Standards for The Protection of Personal Information of Residents of the Commonwealth [31] In 2013, the Massachusetts Supreme Court ruled that ZIP codes are PII.', '[32]\\n\\n\\n\\nFederal law [ edit ]\\n\\nForensics [ edit ]\\n\\nIn forensics, particularly the identification and prosecution of criminals, personally identifiable information is critical in establishing evidence in criminal procedure.', 'Criminals may go to great trouble to avoid leaving any PII,[citation needed] such as by:\\n\\nWearing masks, sunglasses, or clothing to obscure or completely hide distinguishing features, such as eye, skin, and hair colour, facial features, and personal marks such as tattoos, birthmarks, moles and scars.', 'Wearing gloves to conceal fingerprints, which themselves are PII.', 'However, gloves can also leave prints that are just as unique as human fingerprints.', 'After collecting glove prints, law enforcement can then match them to gloves that they have collected as evidence.', '[33] In many jurisdictions the act of wearing gloves itself while committing a crime can be prosecuted as an inchoate offense.', '[34]\\n\\nIn many jurisdictions the act of wearing gloves itself while committing a crime can be prosecuted as an inchoate offense.', 'Avoiding writing anything in their own handwriting.', '[35]\\n\\nMasking their internet presence with methods such as using a proxy server to appear to be connecting from an IP address unassociated with oneself.', 'Personal safety [ edit ]\\n\\nPersonal data is a key component of online identity and can be exploited by individuals.', 'For instance, data can be altered and used to create fake documents, hijack mail boxes and phone calls or harass people, such as in the data breach from the EE Limited company.', '[36]\\n\\nAnother key case can be referred to as Financial Identity Theft,[37] which usually entails bank account and credit card information being stolen, and then being used or sold.', '[38]\\n\\nPersonal data can also be used to create fake online identity, including fake accounts and profiles (that can be referred as Identity Cloning[39] or Identity Fraud) for celebrities to gather data from other users more easily.', '[40] Even individuals can be concerned, especially for personal purpose (this is more widely known as sockpuppetry).', \"The most critical information, such as one's password, date of birth, ID documents or Social Insurance Number, can be used to log in to different websites (See Password reuse and Account verification) to gather more information and access more content.\", 'Also, several agencies ask for discretion on subject related to their work, for the safety of their employees.', 'For this reason, the United States Department of Defense (DoD) has strict policies controlling release of personally identifiable information of DoD personnel.', '[41] Many intelligence agencies have similar policies, sometimes to the point where employees do not disclose to their friends that they work for the agency.', \"Similar identity protection concerns exist for witness protection programs, women's shelters, and victims of domestic violence and other threats.\", '[42]\\n\\nTrade of personal data [ edit ]\\n\\nDuring the second half of the 20th century, the digital revolution introduced \"privacy economics\", or the trade of personal data.', 'The value of data can change over time and over different contexts.', 'Disclosing data can reverse information asymmetry, though the costs of doing so can be unclear.', 'In relation to companies, consumers often have \"imperfect information regarding when their data is collected, with what purposes, and with what consequences.', '\"[43]\\n\\nWriting in 2015, Alessandro Acquisti, Curtis Taylor and Liad Wagman identified three \"waves\" in the trade of personal data:\\n\\nIn the 1970s, the Chicago Boys school claimed that protection of privacy could have a negative impact on the market because it could lead to incorrect and non-optimal decisions.', 'Other researchers like Andrew F. Daughety and Jennifer F. Reinganum suggested that the opposite was true, and that absence of privacy would also lead to this.', '[44] In the mid 1990s, Varian retook the Chicago Boys approach and added a new externality, stating that the consumer would not always have perfect information on how their own data would be used.', '[45] Kenneth C. Laudon developed a model in which individuals own their data and have the ability to sell it as a product.', 'He believed that such a system should not be regulated, to create a free market.', '[46] In the 2000s, researchers worked on price discrimination (Taylor, 2004[47]), two-sided markets (Cornière, 2011[48]) and marketing strategies (Anderson and de Palma, 2012[49]).', 'The theories became complex, and showed that the impact of privacy on the economy highly depended on the context.', '[ clarification needed ]\\n\\nSee also [ edit ]\\n\\nNotes [ edit ]\\n\\n^ Privacy Act 1988 (Cth) \"personal information\" also includes information from which the person\\'s identity is \"reasonably ascertainable\", potentially covering some information not covered by PII.', 'In other countries with privacy protection laws derived from the OECD privacy principles, the term used is more often \"personal information\", which may be somewhat broader: in Australia\\'s1988 (Cth) \"personal information\" also includes information from which the person\\'s identity is \"reasonably ascertainable\", potentially covering some information not covered by PII.']\n"
          ],
          "name": "stdout"
        }
      ]
    },
    {
      "cell_type": "code",
      "metadata": {
        "colab": {
          "base_uri": "https://localhost:8080/"
        },
        "id": "IeVOQMM1o26k",
        "outputId": "0d08787a-ee3c-4d6b-9a30-952e2cb7d62f"
      },
      "source": [
        "remove_punct_dict=dict( (ord(punct),None) for punct in string.punctuation)\n",
        "print(string.punctuation)\n",
        "print(remove_punct_dict)"
      ],
      "execution_count": null,
      "outputs": [
        {
          "output_type": "stream",
          "text": [
            "!\"#$%&'()*+,-./:;<=>?@[\\]^_`{|}~\n",
            "{33: None, 34: None, 35: None, 36: None, 37: None, 38: None, 39: None, 40: None, 41: None, 42: None, 43: None, 44: None, 45: None, 46: None, 47: None, 58: None, 59: None, 60: None, 61: None, 62: None, 63: None, 64: None, 91: None, 92: None, 93: None, 94: None, 95: None, 96: None, 123: None, 124: None, 125: None, 126: None}\n"
          ],
          "name": "stdout"
        }
      ]
    },
    {
      "cell_type": "code",
      "metadata": {
        "colab": {
          "base_uri": "https://localhost:8080/"
        },
        "id": "2SmPUleco7FK",
        "outputId": "02813c5e-597e-4e69-876c-bd25b635c29b"
      },
      "source": [
        "def LemNormalize(text):\n",
        "  return nltk.word_tokenize(text.lower().translate(remove_punct_dict))\n",
        "print(LemNormalize(text))"
      ],
      "execution_count": null,
      "outputs": [
        {
          "output_type": "stream",
          "text": [
            "['biographical', 'information', 'for', 'identifying', 'the', 'identity', 'of', 'the', 'person', 'to', 'whom', 'it', 'relates', 'private', 'information', 'redirects', 'here', 'for', 'the', '1952', 'british', 'film', 'see', 'private', 'information', 'personal', 'data', 'also', 'known', 'as', 'personal', 'information', 'or', 'personally', 'identifiable', 'information', 'pii123', 'is', 'any', 'information', 'relating', 'to', 'an', 'identifiable', 'person', 'the', 'abbreviation', 'pii', 'is', 'widely', 'accepted', 'in', 'the', 'united', 'states', 'but', 'the', 'phrase', 'it', 'abbreviates', 'has', 'four', 'common', 'variants', 'based', 'on', 'personal', 'personally', 'and', 'identifiable', 'identifying', 'not', 'all', 'are', 'equivalent', 'and', 'for', 'legal', 'purposes', 'the', 'effective', 'definitions', 'vary', 'depending', 'on', 'the', 'jurisdiction', 'and', 'the', 'purposes', 'for', 'which', 'the', 'term', 'is', 'being', 'used', 'a', 'under', 'european', 'and', 'other', 'data', 'protection', 'regimes', 'which', 'centre', 'primarily', 'around', 'the', 'general', 'data', 'protection', 'regulation', 'the', 'term', 'personal', 'data', 'is', 'significantly', 'broader', 'and', 'determines', 'the', 'scope', 'of', 'the', 'regulatory', 'regime4', 'national', 'institute', 'of', 'standards', 'and', 'technology', 'special', 'publication', '8001225', 'defines', 'personally', 'identifiable', 'information', 'as', 'any', 'information', 'about', 'an', 'individual', 'maintained', 'by', 'an', 'agency', 'including', '1', 'any', 'information', 'that', 'can', 'be', 'used', 'to', 'distinguish', 'or', 'trace', 'an', 'individuals', 'identity', 'such', 'as', 'name', 'social', 'security', 'number', 'date', 'and', 'place', 'of', 'birth', 'mothers', 'maiden', 'name', 'or', 'biometric', 'records', 'and', '2', 'any', 'other', 'information', 'that', 'is', 'linked', 'or', 'linkable', 'to', 'an', 'individual', 'such', 'as', 'medical', 'educational', 'financial', 'and', 'employment', 'information', 'so', 'for', 'example', 'a', 'users', 'ip', 'address', 'is', 'not', 'classed', 'as', 'pii', 'on', 'its', 'own', 'but', 'is', 'classified', 'as', 'a', 'linked', 'pii6', 'however', 'in', 'the', 'european', 'union', 'the', 'ip', 'address', 'of', 'an', 'internet', 'subscriber', 'may', 'be', 'classed', 'as', 'personal', 'data7', 'personal', 'data', 'is', 'defined', 'under', 'the', 'gdpr', 'as', 'any', 'information', 'which', 'is', 'related', 'to', 'an', 'identified', 'or', 'identifiable', 'natural', 'person8', 'the', 'concept', 'of', 'pii', 'has', 'become', 'prevalent', 'as', 'information', 'technology', 'and', 'the', 'internet', 'have', 'made', 'it', 'easier', 'to', 'collect', 'pii', 'leading', 'to', 'a', 'profitable', 'market', 'in', 'collecting', 'and', 'reselling', 'pii', 'pii', 'can', 'also', 'be', 'exploited', 'by', 'criminals', 'to', 'stalk', 'or', 'steal', 'the', 'identity', 'of', 'a', 'person', 'or', 'to', 'aid', 'in', 'the', 'planning', 'of', 'criminal', 'acts', 'as', 'a', 'response', 'to', 'these', 'threats', 'many', 'website', 'privacy', 'policies', 'specifically', 'address', 'the', 'gathering', 'of', 'pii9', 'and', 'lawmakers', 'such', 'as', 'the', 'european', 'parliament', 'have', 'enacted', 'a', 'series', 'of', 'legislation', 'such', 'as', 'the', 'general', 'data', 'protection', 'regulation', 'gdpr', 'to', 'limit', 'the', 'distribution', 'and', 'accessibility', 'of', 'pii10', 'important', 'confusion', 'arises', 'around', 'whether', 'pii', 'means', 'information', 'which', 'is', 'identifiable', 'that', 'is', 'can', 'be', 'associated', 'with', 'a', 'person', 'or', 'identifying', 'that', 'is', 'associated', 'uniquely', 'with', 'a', 'person', 'such', 'that', 'the', 'pii', 'identifies', 'them', 'in', 'prescriptive', 'data', 'privacy', 'regimes', 'such', 'as', 'hipaa', 'pii', 'items', 'have', 'been', 'specifically', 'defined', 'in', 'broader', 'data', 'protection', 'regimes', 'such', 'as', 'the', 'gdpr', 'personal', 'data', 'is', 'defined', 'in', 'a', 'nonprescriptive', 'principlesbased', 'way', 'information', 'that', 'might', 'not', 'count', 'as', 'pii', 'under', 'hipaa', 'can', 'be', 'personal', 'data', 'for', 'the', 'purposes', 'of', 'gdpr', 'for', 'this', 'reason', 'pii', 'is', 'typically', 'deprecated', 'internationally', 'conceptions', 'edit', 'the', 'us', 'government', 'used', 'the', 'term', 'personally', 'identifiable', 'in', '2007', 'in', 'a', 'memorandum', 'from', 'the', 'executive', 'office', 'of', 'the', 'president', 'office', 'of', 'management', 'and', 'budget', 'omb11', 'and', 'that', 'usage', 'now', 'appears', 'in', 'us', 'standards', 'such', 'as', 'the', 'nist', 'guide', 'to', 'protecting', 'the', 'confidentiality', 'of', 'personally', 'identifiable', 'information', 'sp', '80012212', 'the', 'omb', 'memorandum', 'defines', 'pii', 'as', 'follows', 'information', 'which', 'can', 'be', 'used', 'to', 'distinguish', 'or', 'trace', 'an', 'individuals', 'identity', 'such', 'as', 'their', 'name', 'social', 'security', 'number', 'biometric', 'records', 'etc', 'alone', 'or', 'when', 'combined', 'with', 'other', 'personal', 'or', 'identifying', 'information', 'which', 'is', 'linked', 'or', 'linkable', 'to', 'a', 'specific', 'individual', 'such', 'as', 'date', 'and', 'place', 'of', 'birth', 'mother', '’', 's', 'maiden', 'name', 'etc', 'a', 'term', 'similar', 'to', 'pii', 'personal', 'data', 'is', 'defined', 'in', 'eu', 'directive', '9546ec', 'for', 'the', 'purposes', 'of', 'the', 'directive13', 'article', '2a', 'personal', 'data', 'shall', 'mean', 'any', 'information', 'relating', 'to', 'an', 'identified', 'or', 'identifiable', 'natural', 'person', 'data', 'subject', 'an', 'identifiable', 'person', 'is', 'one', 'who', 'can', 'be', 'identified', 'directly', 'or', 'indirectly', 'in', 'particular', 'by', 'reference', 'to', 'an', 'identification', 'number', 'or', 'to', 'one', 'or', 'more', 'factors', 'specific', 'to', 'his', 'physical', 'physiological', 'mental', 'economic', 'cultural', 'or', 'social', 'identity', 'however', 'in', 'the', 'eu', 'rules', 'there', 'has', 'been', 'a', 'clearer', 'notion', 'that', 'the', 'data', 'subject', 'can', 'potentially', 'be', 'identified', 'through', 'additional', 'processing', 'of', 'other', 'attributes—quasi', 'or', 'pseudoidentifiers', 'in', 'the', 'gdpr', 'personal', 'data', 'is', 'defined', 'as', 'any', 'information', 'relating', 'to', 'an', 'identified', 'or', 'identifiable', 'natural', 'person', 'data', 'subject', 'an', 'identifiable', 'natural', 'person', 'is', 'one', 'who', 'can', 'be', 'identified', 'directly', 'or', 'indirectly', 'in', 'particular', 'by', 'reference', 'to', 'an', 'identifier', 'such', 'as', 'a', 'name', 'an', 'identification', 'number', 'location', 'data', 'an', 'online', 'identifier', 'or', 'to', 'one', 'or', 'more', 'factors', 'specific', 'to', 'the', 'physical', 'physiological', 'genetic', 'mental', 'economic', 'cultural', 'or', 'social', 'identity', 'of', 'that', 'natural', 'person14', 'a', 'simple', 'example', 'of', 'this', 'distinction', 'the', 'colour', 'name', 'red', 'by', 'itself', 'is', 'not', 'personal', 'data', 'but', 'that', 'same', 'value', 'stored', 'as', 'part', 'of', 'a', 'persons', 'record', 'as', 'their', 'favourite', 'colour', 'is', 'personal', 'data', 'its', 'the', 'connection', 'to', 'the', 'person', 'that', 'makes', 'it', 'personal', 'data', 'not', 'as', 'in', 'pii', 'the', 'value', 'itself', 'another', 'term', 'similar', 'to', 'pii', 'personal', 'information', 'is', 'defined', 'in', 'a', 'section', 'of', 'the', 'california', 'data', 'breach', 'notification', 'law', 'sb138615', 'e', 'for', 'purposes', 'of', 'this', 'section', 'personal', 'information', 'means', 'an', 'individuals', 'first', 'name', 'or', 'first', 'initial', 'and', 'last', 'name', 'in', 'combination', 'with', 'any', 'one', 'or', 'more', 'of', 'the', 'following', 'data', 'elements', 'when', 'either', 'the', 'name', 'or', 'the', 'data', 'elements', 'are', 'not', 'encrypted', '1', 'social', 'security', 'number', '2', 'drivers', 'license', 'number', 'or', 'california', 'identification', 'card', 'number', '3', 'account', 'number', 'credit', 'or', 'debit', 'card', 'number', 'in', 'combination', 'with', 'any', 'required', 'security', 'code', 'access', 'code', 'or', 'password', 'that', 'would', 'permit', 'access', 'to', 'an', 'individuals', 'financial', 'account', 'f', 'for', 'purposes', 'of', 'this', 'section', 'personal', 'information', 'does', 'not', 'include', 'publicly', 'available', 'information', 'that', 'is', 'lawfully', 'made', 'available', 'to', 'the', 'general', 'public', 'from', 'federal', 'state', 'or', 'local', 'government', 'records', 'the', 'concept', 'of', 'information', 'combination', 'given', 'in', 'the', 'sb1386', 'definition', 'is', 'key', 'to', 'correctly', 'distinguishing', 'pii', 'as', 'defined', 'by', 'omb', 'from', 'personal', 'information', 'as', 'defined', 'by', 'sb1386', 'information', 'such', 'as', 'a', 'name', 'that', 'lacks', 'context', 'can', 'not', 'be', 'said', 'to', 'be', 'sb1386', 'personal', 'information', 'but', 'it', 'must', 'be', 'said', 'to', 'be', 'pii', 'as', 'defined', 'by', 'omb', 'for', 'example', 'the', 'name', 'john', 'smith', 'has', 'no', 'meaning', 'in', 'the', 'current', 'context', 'and', 'is', 'therefore', 'not', 'sb1386', 'personal', 'information', 'but', 'it', 'is', 'pii', 'a', 'social', 'security', 'number', 'ssn', 'without', 'a', 'name', 'or', 'some', 'other', 'associated', 'identity', 'or', 'context', 'information', 'is', 'not', 'sb1386', 'personal', 'information', 'but', 'it', 'is', 'pii', 'for', 'example', 'the', 'ssn', '078051120', 'by', 'itself', 'is', 'pii', 'but', 'it', 'is', 'not', 'sb1386', 'personal', 'information', 'however', 'the', 'combination', 'of', 'a', 'valid', 'name', 'with', 'the', 'correct', 'ssn', 'is', 'sb1386', 'personal', 'information15', 'the', 'combination', 'of', 'a', 'name', 'with', 'a', 'context', 'may', 'also', 'be', 'considered', 'pii', 'for', 'example', 'if', 'a', 'persons', 'name', 'is', 'on', 'a', 'list', 'of', 'patients', 'for', 'an', 'hiv', 'clinic', 'however', 'it', 'is', 'not', 'necessary', 'for', 'the', 'name', 'to', 'be', 'combined', 'with', 'a', 'context', 'in', 'order', 'for', 'it', 'to', 'be', 'pii', 'the', 'reason', 'for', 'this', 'distinction', 'is', 'that', 'bits', 'of', 'information', 'such', 'as', 'names', 'although', 'they', 'may', 'not', 'be', 'sufficient', 'by', 'themselves', 'to', 'make', 'an', 'identification', 'may', 'later', 'be', 'combined', 'with', 'other', 'information', 'to', 'identify', 'persons', 'and', 'expose', 'them', 'to', 'harm', 'according', 'to', 'the', 'omb', 'it', 'is', 'not', 'always', 'the', 'case', 'that', 'pii', 'is', 'sensitive', 'and', 'context', 'may', 'be', 'taken', 'into', 'account', 'in', 'deciding', 'whether', 'certain', 'pii', 'is', 'or', 'is', 'not', 'sensitive11full', 'citation', 'needed', 'australia', 'edit', 'in', 'australia', 'the', 'privacy', 'act', '1988', 'deals', 'with', 'the', 'protection', 'of', 'individual', 'privacy', 'using', 'the', 'oecd', 'privacy', 'principles', 'from', 'the', '1980s', 'to', 'set', 'up', 'a', 'broad', 'principlesbased', 'regulatory', 'model', 'unlike', 'in', 'the', 'us', 'where', 'coverage', 'is', 'generally', 'not', 'based', 'on', 'broad', 'principles', 'but', 'on', 'specific', 'technologies', 'business', 'practices', 'or', 'data', 'items', 'section', '6', 'has', 'the', 'relevant', 'definition16', 'the', 'critical', 'detail', 'is', 'that', 'the', 'definition', 'of', 'personal', 'information', 'also', 'applies', 'to', 'where', 'the', 'individual', 'can', 'be', 'indirectly', 'identified', 'personal', 'information', 'means', 'information', 'or', 'an', 'opinion', 'about', 'an', 'identified', 'individual', 'or', 'an', 'individual', 'who', 'is', 'reasonably', 'identifiable', 'whether', 'the', 'information', 'or', 'opinion', 'is', 'true', 'or', 'not', 'and', 'whether', 'the', 'information', 'or', 'opinion', 'is', 'recorded', 'in', 'a', 'material', 'form', 'or', 'not', 'emphasis', 'added', 'this', 'raises', 'the', 'question', 'of', 'reasonableness', 'assume', 'it', 'is', 'theoretically', 'possible', 'to', 'identify', 'a', 'person', 'from', 'information', 'which', 'does', 'not', 'include', 'a', 'name', 'or', 'address', 'but', 'does', 'contain', 'clues', 'which', 'could', 'be', 'pursued', 'to', 'find', 'out', 'who', 'it', 'relates', 'to', 'how', 'much', 'extra', 'effort', 'does', 'it', 'take', 'to', 'make', 'it', 'unreasonable', 'that', 'such', 'information', 'could', 'be', 'identified', 'for', 'instance', 'if', 'the', 'information', 'involves', 'an', 'ip', 'address', 'and', 'the', 'relevant', 'isp', 'stores', 'logs', 'which', 'could', 'easily', 'be', 'inspected', 'if', 'you', 'had', 'sufficient', 'legal', 'justification', 'to', 'relink', 'the', 'ip', 'address', 'to', 'the', 'account', 'holder', 'can', 'their', 'identity', 'be', 'reasonably', 'ascertained', 'if', 'such', 'linking', 'used', 'to', 'be', 'expensive', 'slow', 'and', 'difficult', 'but', 'becomes', 'easier', 'does', 'this', 'change', 'the', 'answer', 'at', 'some', 'point', 'it', 'appears', 'that', 'this', 'definition', 'is', 'significantly', 'broader', 'than', 'the', 'californian', 'example', 'given', 'above', 'and', 'thus', 'that', 'australian', 'privacy', 'law', 'while', 'in', 'some', 'respects', 'weakly', 'enforced', 'may', 'cover', 'a', 'broader', 'category', 'of', 'data', 'and', 'information', 'than', 'in', 'some', 'us', 'law', 'in', 'particular', 'online', 'behavioral', 'advertising', 'businesses', 'based', 'in', 'the', 'us', 'but', 'surreptitiously', 'collecting', 'information', 'from', 'people', 'in', 'other', 'countries', 'in', 'the', 'form', 'of', 'cookies', 'bugs', 'trackers', 'and', 'the', 'like', 'may', 'find', 'that', 'their', 'preference', 'to', 'avoid', 'the', 'implications', 'of', 'wanting', 'to', 'build', 'a', 'psychographic', 'profile', 'of', 'a', 'particular', 'person', 'using', 'the', 'rubric', 'of', 'we', 'dont', 'collect', 'personal', 'information', 'may', 'find', 'that', 'this', 'does', 'not', 'make', 'sense', 'under', 'a', 'broader', 'definition', 'like', 'that', 'in', 'the', 'australian', 'privacy', 'act', 'the', 'term', 'pii', 'is', 'not', 'used', 'in', 'australian', 'privacy', 'law', 'canada', 'edit', 'european', 'union', 'edit', 'european', 'data', 'protection', 'law', 'does', 'not', 'utilize', 'the', 'concept', 'of', 'personally', 'identifiable', 'information', 'and', 'its', 'scope', 'is', 'instead', 'determined', 'by', 'nonsynonymous', 'wider', 'concept', 'of', 'personal', 'data', 'further', 'examples', 'can', 'be', 'found', 'on', 'the', 'eu', 'privacy', 'website17', 'united', 'kingdom', 'edit', 'new', 'zealand', 'edit', 'the', 'twelve', 'information', 'privacy', 'principles', 'of', 'the', 'privacy', 'act', '1993', 'apply', 'switzerland', 'edit', 'the', 'federal', 'act', 'on', 'data', 'protection', 'of', '19', 'june', '1992', 'in', 'force', 'since', '1993', 'has', 'set', 'up', 'a', 'protection', 'of', 'privacy', 'by', 'prohibiting', 'virtually', 'any', 'processing', 'of', 'personal', 'data', 'which', 'is', 'not', 'expressly', 'authorized', 'by', 'the', 'data', 'subjects19', 'the', 'protection', 'is', 'subject', 'to', 'the', 'authority', 'of', 'the', 'federal', 'data', 'protection', 'and', 'information', 'commissioner19', 'additionally', 'any', 'person', 'may', 'ask', 'in', 'writing', 'a', 'company', 'managing', 'data', 'files', 'the', 'correction', 'or', 'deletion', 'of', 'any', 'personal', 'data20', 'the', 'company', 'must', 'respond', 'within', 'thirty', 'days20', 'united', 'states', 'edit', 'the', 'privacy', 'act', 'of', '1974', 'publ', '93–579', '88', 'stat', '1896', 'enacted', '31', 'december', '1974', '5', 'usc', '§', '552a', 'a', 'united', 'states', 'federal', 'law', 'establishes', 'a', 'code', 'of', 'fair', 'information', 'practice', 'that', 'governs', 'the', 'collection', 'maintenance', 'use', 'and', 'dissemination', 'of', 'personally', 'identifiable', 'information', 'about', 'individuals', 'that', 'is', 'maintained', 'in', 'systems', 'of', 'records', 'by', 'federal', 'agencies21', 'one', 'of', 'the', 'primary', 'focuses', 'of', 'the', 'health', 'insurance', 'portability', 'and', 'accountability', 'act', 'hipaa', 'is', 'to', 'protect', 'a', 'patients', 'protected', 'health', 'information', 'phi', 'which', 'is', 'similar', 'to', 'pii', 'the', 'us', 'senate', 'proposed', 'the', 'privacy', 'act', 'of', '2005', 'which', 'attempted', 'to', 'strictly', 'limit', 'the', 'display', 'purchase', 'or', 'sale', 'of', 'pii', 'without', 'the', 'persons', 'consent', 'similarly', 'the', 'proposed', 'antiphishing', 'act', 'of', '2005', 'attempted', 'to', 'prevent', 'the', 'acquiring', 'of', 'pii', 'through', 'phishing', 'us', 'lawmakers', 'have', 'paid', 'special', 'attention', 'to', 'the', 'social', 'security', 'number', 'because', 'it', 'can', 'be', 'easily', 'used', 'to', 'commit', 'identity', 'theft', 'the', 'proposed', 'social', 'security', 'number', 'protection', 'act', 'of', '2005', 'and', 'proposed', 'identity', 'theft', 'prevention', 'act', 'of', '2005', 'each', 'sought', 'to', 'limit', 'the', 'distribution', 'of', 'an', 'individuals', 'social', 'security', 'number', 'additional', 'us', 'specific', 'personally', 'identifiable', 'information22', 'includes', 'but', 'is', 'not', 'limited', 'to', 'i94', 'records', 'medicaid', 'id', 'numbers', 'internal', 'revenue', 'services', 'irs', 'documentation', 'exclusivity', 'of', 'personally', 'identifiable', 'information', 'affiliated', 'with', 'the', 'us', 'highlights', 'national', 'data', 'security', 'concerns23', 'and', 'the', 'influence', 'of', 'personally', 'identifiable', 'information', 'in', 'us', 'federal', 'data', 'management', 'systems', 'nist', 'definition', 'edit', 'the', 'national', 'institute', 'of', 'standards', 'and', 'technology', 'nist', 'is', 'a', 'physical', 'sciences', 'laboratory', 'and', 'a', 'nonregulatory', 'agency', 'of', 'the', 'united', 'states', 'department', 'of', 'commerce', 'its', 'mission', 'is', 'to', 'promote', 'innovation', 'and', 'industrial', 'competitiveness', 'the', 'following', 'data', 'often', 'used', 'for', 'the', 'express', 'purpose', 'of', 'distinguishing', 'individual', 'identity', 'clearly', 'classify', 'as', 'personally', 'identifiable', 'information', 'under', 'the', 'definition', 'used', 'by', 'the', 'nist', 'described', 'in', 'detail', 'below12', 'the', 'following', 'are', 'less', 'often', 'used', 'to', 'distinguish', 'individual', 'identity', 'because', 'they', 'are', 'traits', 'shared', 'by', 'many', 'people', 'however', 'they', 'are', 'potentially', 'pii', 'because', 'they', 'may', 'be', 'combined', 'with', 'other', 'personal', 'information', 'to', 'identify', 'an', 'individual', 'full', 'name', 'home', 'address', 'city', 'state', 'postcode', 'country', 'telephone', 'age', 'date', 'of', 'birth', 'especially', 'if', 'nonspecific', 'gender', 'or', 'race', 'web', 'cookie24', 'when', 'a', 'person', 'wishes', 'to', 'remain', 'anonymous', 'descriptions', 'of', 'them', 'will', 'often', 'employ', 'several', 'of', 'the', 'above', 'such', 'as', 'a', '34yearold', 'white', 'male', 'who', 'works', 'at', 'target', 'note', 'that', 'information', 'can', 'still', 'be', 'private', 'in', 'the', 'sense', 'that', 'a', 'person', 'may', 'not', 'wish', 'for', 'it', 'to', 'become', 'publicly', 'known', 'without', 'being', 'personally', 'identifiable', 'moreover', 'sometimes', 'multiple', 'pieces', 'of', 'information', 'none', 'sufficient', 'by', 'itself', 'to', 'uniquely', 'identify', 'an', 'individual', 'may', 'uniquely', 'identify', 'a', 'person', 'when', 'combined', 'this', 'is', 'one', 'reason', 'that', 'multiple', 'pieces', 'of', 'evidence', 'are', 'usually', 'presented', 'at', 'criminal', 'trials', 'it', 'has', 'been', 'shown', 'that', 'in', '1990', '87', 'of', 'the', 'population', 'of', 'the', 'united', 'states', 'could', 'be', 'uniquely', 'identified', 'by', 'gender', 'zip', 'code', 'and', 'full', 'date', 'of', 'birth25', 'in', 'hacker', 'and', 'internet', 'slang', 'the', 'practice', 'of', 'finding', 'and', 'releasing', 'such', 'information', 'is', 'called', 'doxing2627', 'it', 'is', 'sometimes', 'used', 'to', 'deter', 'collaboration', 'with', 'law', 'enforcement28', 'on', 'occasion', 'the', 'doxing', 'can', 'trigger', 'an', 'arrest', 'particularly', 'if', 'law', 'enforcement', 'agencies', 'suspect', 'that', 'the', 'doxed', 'individual', 'may', 'panic', 'and', 'disappear29', 'state', 'laws', 'and', 'significant', 'court', 'rulings', 'edit', 'california', 'the', 'california', 'state', 'constitution', 'declares', 'privacy', 'an', 'inalienable', 'right', 'in', 'article', '1', 'section', '1', 'california', 'online', 'privacy', 'protection', 'act', 'oppa', 'of', '2003', 'sb', '1386', 'requires', 'organizations', 'to', 'notify', 'individuals', 'when', 'pii', 'in', 'combination', 'with', 'one', 'or', 'more', 'additional', 'specific', 'data', 'elements', 'is', 'known', 'or', 'believed', 'to', 'be', 'acquired', 'by', 'an', 'unauthorized', 'person', 'in', '2011', 'the', 'california', 'state', 'supreme', 'court', 'ruled', 'that', 'a', 'persons', 'zip', 'code', 'is', 'pii', '30', 'nevada', 'nevada', 'revised', 'statutes', '603asecurity', 'of', 'personal', 'information', 'massachusetts', '201', 'cmr', '1700', 'standards', 'for', 'the', 'protection', 'of', 'personal', 'information', 'of', 'residents', 'of', 'the', 'commonwealth', '31', 'in', '2013', 'the', 'massachusetts', 'supreme', 'court', 'ruled', 'that', 'zip', 'codes', 'are', 'pii', '32', 'federal', 'law', 'edit', 'forensics', 'edit', 'in', 'forensics', 'particularly', 'the', 'identification', 'and', 'prosecution', 'of', 'criminals', 'personally', 'identifiable', 'information', 'is', 'critical', 'in', 'establishing', 'evidence', 'in', 'criminal', 'procedure', 'criminals', 'may', 'go', 'to', 'great', 'trouble', 'to', 'avoid', 'leaving', 'any', 'piicitation', 'needed', 'such', 'as', 'by', 'wearing', 'masks', 'sunglasses', 'or', 'clothing', 'to', 'obscure', 'or', 'completely', 'hide', 'distinguishing', 'features', 'such', 'as', 'eye', 'skin', 'and', 'hair', 'colour', 'facial', 'features', 'and', 'personal', 'marks', 'such', 'as', 'tattoos', 'birthmarks', 'moles', 'and', 'scars', 'wearing', 'gloves', 'to', 'conceal', 'fingerprints', 'which', 'themselves', 'are', 'pii', 'however', 'gloves', 'can', 'also', 'leave', 'prints', 'that', 'are', 'just', 'as', 'unique', 'as', 'human', 'fingerprints', 'after', 'collecting', 'glove', 'prints', 'law', 'enforcement', 'can', 'then', 'match', 'them', 'to', 'gloves', 'that', 'they', 'have', 'collected', 'as', 'evidence', '33', 'in', 'many', 'jurisdictions', 'the', 'act', 'of', 'wearing', 'gloves', 'itself', 'while', 'committing', 'a', 'crime', 'can', 'be', 'prosecuted', 'as', 'an', 'inchoate', 'offense', '34', 'in', 'many', 'jurisdictions', 'the', 'act', 'of', 'wearing', 'gloves', 'itself', 'while', 'committing', 'a', 'crime', 'can', 'be', 'prosecuted', 'as', 'an', 'inchoate', 'offense', 'avoiding', 'writing', 'anything', 'in', 'their', 'own', 'handwriting', '35', 'masking', 'their', 'internet', 'presence', 'with', 'methods', 'such', 'as', 'using', 'a', 'proxy', 'server', 'to', 'appear', 'to', 'be', 'connecting', 'from', 'an', 'ip', 'address', 'unassociated', 'with', 'oneself', 'personal', 'safety', 'edit', 'personal', 'data', 'is', 'a', 'key', 'component', 'of', 'online', 'identity', 'and', 'can', 'be', 'exploited', 'by', 'individuals', 'for', 'instance', 'data', 'can', 'be', 'altered', 'and', 'used', 'to', 'create', 'fake', 'documents', 'hijack', 'mail', 'boxes', 'and', 'phone', 'calls', 'or', 'harass', 'people', 'such', 'as', 'in', 'the', 'data', 'breach', 'from', 'the', 'ee', 'limited', 'company36', 'another', 'key', 'case', 'can', 'be', 'referred', 'to', 'as', 'financial', 'identity', 'theft37', 'which', 'usually', 'entails', 'bank', 'account', 'and', 'credit', 'card', 'information', 'being', 'stolen', 'and', 'then', 'being', 'used', 'or', 'sold38', 'personal', 'data', 'can', 'also', 'be', 'used', 'to', 'create', 'fake', 'online', 'identity', 'including', 'fake', 'accounts', 'and', 'profiles', 'that', 'can', 'be', 'referred', 'as', 'identity', 'cloning39', 'or', 'identity', 'fraud', 'for', 'celebrities', 'to', 'gather', 'data', 'from', 'other', 'users', 'more', 'easily40', 'even', 'individuals', 'can', 'be', 'concerned', 'especially', 'for', 'personal', 'purpose', 'this', 'is', 'more', 'widely', 'known', 'as', 'sockpuppetry', 'the', 'most', 'critical', 'information', 'such', 'as', 'ones', 'password', 'date', 'of', 'birth', 'id', 'documents', 'or', 'social', 'insurance', 'number', 'can', 'be', 'used', 'to', 'log', 'in', 'to', 'different', 'websites', 'see', 'password', 'reuse', 'and', 'account', 'verification', 'to', 'gather', 'more', 'information', 'and', 'access', 'more', 'content', 'also', 'several', 'agencies', 'ask', 'for', 'discretion', 'on', 'subject', 'related', 'to', 'their', 'work', 'for', 'the', 'safety', 'of', 'their', 'employees', 'for', 'this', 'reason', 'the', 'united', 'states', 'department', 'of', 'defense', 'dod', 'has', 'strict', 'policies', 'controlling', 'release', 'of', 'personally', 'identifiable', 'information', 'of', 'dod', 'personnel41', 'many', 'intelligence', 'agencies', 'have', 'similar', 'policies', 'sometimes', 'to', 'the', 'point', 'where', 'employees', 'do', 'not', 'disclose', 'to', 'their', 'friends', 'that', 'they', 'work', 'for', 'the', 'agency', 'similar', 'identity', 'protection', 'concerns', 'exist', 'for', 'witness', 'protection', 'programs', 'womens', 'shelters', 'and', 'victims', 'of', 'domestic', 'violence', 'and', 'other', 'threats42', 'trade', 'of', 'personal', 'data', 'edit', 'during', 'the', 'second', 'half', 'of', 'the', '20th', 'century', 'the', 'digital', 'revolution', 'introduced', 'privacy', 'economics', 'or', 'the', 'trade', 'of', 'personal', 'data', 'the', 'value', 'of', 'data', 'can', 'change', 'over', 'time', 'and', 'over', 'different', 'contexts', 'disclosing', 'data', 'can', 'reverse', 'information', 'asymmetry', 'though', 'the', 'costs', 'of', 'doing', 'so', 'can', 'be', 'unclear', 'in', 'relation', 'to', 'companies', 'consumers', 'often', 'have', 'imperfect', 'information', 'regarding', 'when', 'their', 'data', 'is', 'collected', 'with', 'what', 'purposes', 'and', 'with', 'what', 'consequences43', 'writing', 'in', '2015', 'alessandro', 'acquisti', 'curtis', 'taylor', 'and', 'liad', 'wagman', 'identified', 'three', 'waves', 'in', 'the', 'trade', 'of', 'personal', 'data', 'in', 'the', '1970s', 'the', 'chicago', 'boys', 'school', 'claimed', 'that', 'protection', 'of', 'privacy', 'could', 'have', 'a', 'negative', 'impact', 'on', 'the', 'market', 'because', 'it', 'could', 'lead', 'to', 'incorrect', 'and', 'nonoptimal', 'decisions', 'other', 'researchers', 'like', 'andrew', 'f', 'daughety', 'and', 'jennifer', 'f', 'reinganum', 'suggested', 'that', 'the', 'opposite', 'was', 'true', 'and', 'that', 'absence', 'of', 'privacy', 'would', 'also', 'lead', 'to', 'this44', 'in', 'the', 'mid', '1990s', 'varian', 'retook', 'the', 'chicago', 'boys', 'approach', 'and', 'added', 'a', 'new', 'externality', 'stating', 'that', 'the', 'consumer', 'would', 'not', 'always', 'have', 'perfect', 'information', 'on', 'how', 'their', 'own', 'data', 'would', 'be', 'used45', 'kenneth', 'c', 'laudon', 'developed', 'a', 'model', 'in', 'which', 'individuals', 'own', 'their', 'data', 'and', 'have', 'the', 'ability', 'to', 'sell', 'it', 'as', 'a', 'product', 'he', 'believed', 'that', 'such', 'a', 'system', 'should', 'not', 'be', 'regulated', 'to', 'create', 'a', 'free', 'market46', 'in', 'the', '2000s', 'researchers', 'worked', 'on', 'price', 'discrimination', 'taylor', '200447', 'twosided', 'markets', 'cornière', '201148', 'and', 'marketing', 'strategies', 'anderson', 'and', 'de', 'palma', '201249', 'the', 'theories', 'became', 'complex', 'and', 'showed', 'that', 'the', 'impact', 'of', 'privacy', 'on', 'the', 'economy', 'highly', 'depended', 'on', 'the', 'context', 'clarification', 'needed', 'see', 'also', 'edit', 'notes', 'edit', 'privacy', 'act', '1988', 'cth', 'personal', 'information', 'also', 'includes', 'information', 'from', 'which', 'the', 'persons', 'identity', 'is', 'reasonably', 'ascertainable', 'potentially', 'covering', 'some', 'information', 'not', 'covered', 'by', 'pii', 'in', 'other', 'countries', 'with', 'privacy', 'protection', 'laws', 'derived', 'from', 'the', 'oecd', 'privacy', 'principles', 'the', 'term', 'used', 'is', 'more', 'often', 'personal', 'information', 'which', 'may', 'be', 'somewhat', 'broader', 'in', 'australias1988', 'cth', 'personal', 'information', 'also', 'includes', 'information', 'from', 'which', 'the', 'persons', 'identity', 'is', 'reasonably', 'ascertainable', 'potentially', 'covering', 'some', 'information', 'not', 'covered', 'by', 'pii']\n"
          ],
          "name": "stdout"
        }
      ]
    },
    {
      "cell_type": "code",
      "metadata": {
        "id": "6nLEyaNwo-Im"
      },
      "source": [
        "greeting_input=[\"hi\",\"hello\",\"hey\",\"hola\"]\n",
        "greeting_response=[\"howdy\",\"hey there\",\"hi\",\"hello :)\"]\n",
        "def greeting(sentence):\n",
        "  for word in sentence.split():\n",
        "    if word.lower() in greeting_input:\n",
        "      return random.choice(greeting_response)"
      ],
      "execution_count": null,
      "outputs": []
    },
    {
      "cell_type": "code",
      "metadata": {
        "id": "ianICisdpEhL"
      },
      "source": [
        "def response(user_response):\n",
        " #user response and robo responce\n",
        "  #user_response=\"WHat is chronic disease\"\n",
        "  user_response=user_response.lower()\n",
        "  #print(user_response)\n",
        "  #robo response\n",
        "  robo_response=''\n",
        "  sent_tokens.append(user_response)\n",
        "  #print(sent_tokens)\n",
        "  tfidfvec=TfidfVectorizer(tokenizer=LemNormalize , stop_words='english')\n",
        "  tfidf=tfidfvec.fit_transform(sent_tokens)\n",
        "  #print(tfidf)\n",
        "  #get similarity score\n",
        "  val=cosine_similarity(tfidf[-1],tfidf)\n",
        "  #print(val)\n",
        "  idx=val.argsort()[0][-2]\n",
        "  flat=val.flatten()\n",
        "  flat.sort()\n",
        "  score=flat[-2]\n",
        "  #print(score)\n",
        "  if score==0:\n",
        "    robo_response=robo_response+\"sorry,i dont understand\"\n",
        "  else:\n",
        "    robo_response=robo_response+sent_tokens[idx]\n",
        "\n",
        "  sent_tokens.remove(user_response)\n",
        "  return robo_response"
      ],
      "execution_count": null,
      "outputs": []
    },
    {
      "cell_type": "code",
      "metadata": {
        "colab": {
          "base_uri": "https://localhost:8080/"
        },
        "id": "WlajUVSzpHxa",
        "outputId": "ed1179c0-6846-406c-ca42-1dd6fea03f0f"
      },
      "source": [
        "greeting_input=[\"hi\",\"hello\",\"hey\",\"hola\"]\n",
        "greeting_response=[\"howdy\",\"hey there\",\"hi\",\"hello :)\"]\n",
        "def greeting(sentence):\n",
        "  for word in sentence.split():\n",
        "    if word.lower() in greeting_input:\n",
        "      return random.choice(greeting_response)\n",
        "flag=True\n",
        "print(\"hello!!! this is zozo,i can answer your queris related to light ,type bye to exit\")\n",
        "while(flag==True):\n",
        "  user_response=input(\"cherry:\")\n",
        "  #user_response=user_response.lower()\n",
        "  if(user_response!='bye'):\n",
        "    if(user_response=='thanks' or user_response=='thank you'):\n",
        "      flag=False\n",
        "      print(\"zozo: anytime :)\")\n",
        "    else:\n",
        "       if( greeting(user_response) != None):\n",
        "         print(\"zozo: \"+ greeting(user_response))\n",
        "       else:\n",
        "         print(\"zozo:\"+response(user_response))\n",
        "  else:\n",
        "    flag=False\n",
        "    print(\"zozo: see you later :)\")"
      ],
      "execution_count": null,
      "outputs": [
        {
          "output_type": "stream",
          "text": [
            "hello!!! this is zozo,i can answer your queris related to light ,type bye to exit\n",
            "zozo: hi\n",
            "zozo:sorry,i dont understand\n",
            "zozo:Full Name\n",
            "\n",
            "Home Address\n",
            "\n",
            "City\n",
            "\n",
            "State\n",
            "\n",
            "Postcode\n",
            "\n",
            "Country\n",
            "\n",
            "Telephone\n",
            "\n",
            "Age, Date of Birth, especially if non-specific\n",
            "\n",
            "Gender or race\n",
            "\n",
            "Web cookie[24]\n",
            "\n",
            "When a person wishes to remain anonymous, descriptions of them will often employ several of the above, such as \"a 34-year-old white male who works at Target\".\n",
            "zozo:In the GDPR Personal Data is defined as:\n",
            "\n",
            "Any information relating to an identified or identifiable natural person ('data subject'); an identifiable natural person is one who can be identified, directly or indirectly, in particular by reference to an identifier such as a name, an identification number, location data, an online identifier or to one or more factors specific to the physical, physiological, genetic, mental, economic, cultural or social identity of that natural person[14]\n",
            "\n",
            "A simple example of this distinction: the colour name \"red\" by itself is not personal data, but that same value stored as part of a person's record as their \"favourite colour\" is personal data; it's the connection to the person that makes it personal data, not (as in PII) the value itself.\n"
          ],
          "name": "stdout"
        }
      ]
    },
    {
      "cell_type": "code",
      "metadata": {
        "id": "S4RbNq77p9Ak"
      },
      "source": [
        ""
      ],
      "execution_count": null,
      "outputs": []
    },
    {
      "cell_type": "code",
      "metadata": {
        "id": "Oi6iM6WIp9C4"
      },
      "source": [
        ""
      ],
      "execution_count": null,
      "outputs": []
    }
  ]
}